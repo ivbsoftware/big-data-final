{
 "cells": [
  {
   "cell_type": "markdown",
   "metadata": {},
   "source": [
    "# SFO Flight Delays Data for 1987-2008\n",
    "\n",
    "Data taken from http://stat-computing.org/dataexpo/2009/the-data.html\n",
    "\n",
    "This notebook downloads only SFO data fo 1987-2008 years directly from the site, \n",
    "removes some columns it and concatenates data to a singular Dataframe."
   ]
  },
  {
   "cell_type": "code",
   "execution_count": null,
   "metadata": {},
   "outputs": [],
   "source": [
    "import os\n",
    "import numpy as np\n",
    "import pandas as pd\n",
    "import matplotlib as mpl \n",
    "import matplotlib.pyplot as plt \n",
    "import seaborn as sns\n",
    "sns.set(style=\"whitegrid\", color_codes=True)\n",
    "%matplotlib inline"
   ]
  },
  {
   "cell_type": "code",
   "execution_count": null,
   "metadata": {},
   "outputs": [],
   "source": [
    "path = 'http://stat-computing.org/dataexpo/2009/'\n",
    "df = pd.DataFrame()\n",
    "list_ = []\n",
    "for yr in range(1987,2009):\n",
    "    url = 'http://stat-computing.org/dataexpo/2009/' + str(yr) + \".csv.bz2\"\n",
    "    print \".. reading:\", url\n",
    "    tmp = pd.read_csv(url,index_col=None, header=0, compression='bz2')\n",
    "    tmp.drop(['DepTime','CRSDepTime','ArrTime','CRSArrTime','ActualElapsedTime','CRSElapsedTime','AirTime','Distance','TaxiIn','TaxiOut'], axis=1, inplace=True)\n",
    "    tmp.drop(tmp[(tmp['Origin'] != 'SFO') & (tmp['Dest'] != 'SFO')].index, inplace=True)\n",
    "    list_.append(tmp)\n",
    "df = pd.concat(list_)\n",
    "df.head()"
   ]
  },
  {
   "cell_type": "code",
   "execution_count": null,
   "metadata": {},
   "outputs": [],
   "source": [
    "df.groupby('Cancelled').size()"
   ]
  }
 ],
 "metadata": {
  "kernelspec": {
   "display_name": "Python 2",
   "language": "python",
   "name": "python2"
  },
  "language_info": {
   "codemirror_mode": {
    "name": "ipython",
    "version": 2
   },
   "file_extension": ".py",
   "mimetype": "text/x-python",
   "name": "python",
   "nbconvert_exporter": "python",
   "pygments_lexer": "ipython2",
   "version": "2.7.14"
  }
 },
 "nbformat": 4,
 "nbformat_minor": 2
}
