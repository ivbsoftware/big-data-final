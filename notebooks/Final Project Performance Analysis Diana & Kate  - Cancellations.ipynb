{
 "cells": [
  {
   "cell_type": "code",
   "execution_count": 9,
   "metadata": {},
   "outputs": [],
   "source": [
    "import pandas as pd"
   ]
  },
  {
   "cell_type": "code",
   "execution_count": 10,
   "metadata": {},
   "outputs": [],
   "source": [
    "flights_all=pd.read_csv('./flights.csv',dtype={\"ORIGIN_AIRPORT\": str, \"DESTINATION_AIRPORT\": str})"
   ]
  },
  {
   "cell_type": "code",
   "execution_count": 36,
   "metadata": {},
   "outputs": [
    {
     "data": {
      "text/plain": [
       "AIRLINE\n",
       "AA    474792\n",
       "AS    104361\n",
       "B6    157721\n",
       "DL    533601\n",
       "EV    329288\n",
       "F9     55980\n",
       "HA     45387\n",
       "MQ    162958\n",
       "NK     70980\n",
       "OO    349253\n",
       "UA    312705\n",
       "US     68061\n",
       "VX     37627\n",
       "WN    748513\n",
       "Name: FLIGHT_NUMBER, dtype: int64"
      ]
     },
     "execution_count": 36,
     "metadata": {},
     "output_type": "execute_result"
    }
   ],
   "source": [
    "flights_peak = flights_all[(flights_all['MONTH']>4) & (flights_all['MONTH']<12)  ]\n",
    "flights = flights_peak.groupby('AIRLINE')['FLIGHT_NUMBER','DEPARTURE_DELAY','ARRIVAL_DELAY','DIVERTED','CANCELLED','CANCELLATION_REASON','AIR_SYSTEM_DELAY','SECURITY_DELAY','AIRLINE_DELAY','LATE_AIRCRAFT_DELAY','WEATHER_DELAY']\n",
    "\n",
    "f= flights.count()['FLIGHT_NUMBER']\n",
    "f"
   ]
  },
  {
   "cell_type": "code",
   "execution_count": 37,
   "metadata": {},
   "outputs": [
    {
     "data": {
      "text/plain": [
       "AIRLINE\n",
       "AA    1841\n",
       "AS     176\n",
       "B6     561\n",
       "DL     216\n",
       "EV    1343\n",
       "F9     137\n",
       "HA     112\n",
       "MQ     935\n",
       "NK     517\n",
       "OO    1998\n",
       "UA    1981\n",
       "US     286\n",
       "VX     120\n",
       "WN    3481\n",
       "Name: FLIGHT_NUMBER, dtype: int64"
      ]
     },
     "execution_count": 37,
     "metadata": {},
     "output_type": "execute_result"
    }
   ],
   "source": [
    "cancellations = flights_peak[flights_peak['CANCELLATION_REASON'] == 'A']\n",
    "#cancellations.head()\n",
    "c =cancellations.groupby('AIRLINE')['FLIGHT_NUMBER'].count()\n",
    "c"
   ]
  },
  {
   "cell_type": "code",
   "execution_count": 44,
   "metadata": {},
   "outputs": [
    {
     "name": "stdout",
     "output_type": "stream",
     "text": [
      "Cancellations by airlines\n"
     ]
    },
    {
     "data": {
      "text/plain": [
       "AIRLINE\n",
       "AA    0.387749\n",
       "AS    0.168645\n",
       "B6    0.355691\n",
       "DL    0.040480\n",
       "EV    0.407850\n",
       "F9    0.244730\n",
       "HA    0.246767\n",
       "MQ    0.573767\n",
       "NK    0.728374\n",
       "OO    0.572078\n",
       "UA    0.633504\n",
       "US    0.420211\n",
       "VX    0.318920\n",
       "WN    0.465055\n",
       "Name: FLIGHT_NUMBER, dtype: float64"
      ]
     },
     "execution_count": 44,
     "metadata": {},
     "output_type": "execute_result"
    }
   ],
   "source": [
    "print(\"Cancellations by airlines\")\n",
    "cancl = c.iloc[:14]/f.iloc[:14]*100\n",
    "cancl"
   ]
  },
  {
   "cell_type": "code",
   "execution_count": 48,
   "metadata": {},
   "outputs": [],
   "source": [
    "%matplotlib inline\n",
    "\n",
    "import numpy as np\n",
    "import matplotlib.pyplot as plt "
   ]
  },
  {
   "cell_type": "code",
   "execution_count": null,
   "metadata": {},
   "outputs": [],
   "source": []
  }
 ],
 "metadata": {
  "kernelspec": {
   "display_name": "Python 3",
   "language": "python",
   "name": "python3"
  },
  "language_info": {
   "codemirror_mode": {
    "name": "ipython",
    "version": 3
   },
   "file_extension": ".py",
   "mimetype": "text/x-python",
   "name": "python",
   "nbconvert_exporter": "python",
   "pygments_lexer": "ipython3",
   "version": "3.6.4"
  }
 },
 "nbformat": 4,
 "nbformat_minor": 2
}
